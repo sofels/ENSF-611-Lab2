{
  "cells": [
    {
      "cell_type": "markdown",
      "metadata": {
        "id": "XOIo--XsrRQ8"
      },
      "source": [
        "# Lab2 - Concrete compressive strength regression (35 marks total)\n",
        "Author: *Samuel Sofela*"
      ]
    },
    {
      "cell_type": "code",
      "execution_count": 53,
      "metadata": {
        "id": "7MwZbIELrRQ9"
      },
      "outputs": [],
      "source": [
        "import numpy as np\n",
        "import pandas as pd\n",
        "import matplotlib.pyplot as plt\n",
        "import seaborn as sns"
      ]
    },
    {
      "cell_type": "markdown",
      "metadata": {
        "id": "Av1wM_xLrRQ9"
      },
      "source": [
        "## 0. Function definitions (2 marks)\n",
        "\n",
        "To find the best model, we follow the published article where root-mean squared error (rms) was used as a score function. The rms score function needs to be minimized, because the optimal score is 0, larger values are worse performances\n",
        "\n",
        "In scikit-learn, only *maximization* is implemented. Hence, it is customary to maximize the *negative* rms. scitkit-learn provides a scoring function `neg_root_mean_squared_error`"
      ]
    },
    {
      "cell_type": "code",
      "execution_count": 54,
      "metadata": {
        "id": "gUBOdQDnrRQ9"
      },
      "outputs": [],
      "source": [
        "from sklearn.model_selection import cross_validate\n",
        "\n",
        "\n",
        "def get_regressor_neg_rms(model, X, y, cv=7):\n",
        "    '''Calculate train and validation score for regressor (model) using cross-validation\n",
        "        \n",
        "        score is negative root mean-squared error (rms)\n",
        "        \n",
        "        model (sklearn classifier): Regressor to train and evaluate\n",
        "        X (numpy.array or pandas.DataFrame): Feature matrix\n",
        "        y (numpy.array or pandas.Series): Target vector\n",
        "        \n",
        "        returns: mean training negative rms, mean validation negative rms\n",
        "    \n",
        "    '''\n",
        "    \n",
        "    \n",
        "    #TODO: add function body here\n",
        "    #setting name of type of test score\n",
        "    score_type = ['neg_root_mean_squared_error']\n",
        "\n",
        "    #retrieving score using cross-validate()\n",
        "    score = cross_validate(estimator=model, X=X, y=y, cv=cv, scoring=score_type, return_train_score=True)\n",
        "  \n",
        "    score_train = score['train_' + score_type[0]].mean()\n",
        "    score_test = score['test_' + score_type[0]].mean()\n",
        "\n",
        "    return (score_train, score_test)\n",
        "    "
      ]
    },
    {
      "cell_type": "markdown",
      "metadata": {
        "id": "yZ5g49J1rRQ-"
      },
      "source": [
        "## 1. Load data (1 mark each for 3 total marks)\n",
        "yellowbrick concrete  \n",
        "https://www.scikit-yb.org/en/latest/api/datasets/concrete.html\n",
        "\n",
        "Load the Dataset object with `load_concrete()` using `return_dataset=True`\n",
        "\n",
        "Print the README of the Dataset object\n"
      ]
    },
    {
      "cell_type": "code",
      "execution_count": 55,
      "metadata": {
        "colab": {
          "base_uri": "https://localhost:8080/"
        },
        "id": "qchKhI9erRQ-",
        "outputId": "b910be46-d4f0-4436-868e-7e118444cbd1"
      },
      "outputs": [
        {
          "output_type": "stream",
          "name": "stdout",
          "text": [
            "# Concrete Compressive Strength\n",
            "\n",
            "**Downloaded from the UCI Machine Learning Repository on October 13, 2016.**\n",
            "\n",
            "- Multivariate Data Set\n",
            "- Real Attributes\n",
            "- 1,030 Instances\n",
            "- 9 attributes\n",
            "- Well suited for _regression_ tasks\n",
            "- [https://archive.ics.uci.edu/ml/datasets/Concrete+Compressive+Strength](https://archive.ics.uci.edu/ml/datasets/Concrete+Compressive+Strength)\n",
            "\n",
            "## Abstract\n",
            "\n",
            "Concrete is the most important material in civil engineering. The concrete compressive strength is a highly nonlinear function of age and ingredients.\n",
            "\n",
            "## Description\n",
            "\n",
            "Given are the variable name, variable type, the measurement unit and a brief description. The concrete compressive strength is the regression problem. The order of this listing corresponds to the order of numerals along the rows of the database.\n",
            "\n",
            "## Attributes\n",
            "\n",
            "- cement (kg)\n",
            "- blast furnace slag (kg)\n",
            "- fly ash (kg)\n",
            "- water (kg)\n",
            "- superplasticizer (kg)\n",
            "- coarse aggregate (kg)\n",
            "- fine aggregate (kg)\n",
            "- age (day)\n",
            "- compressive strength (MPa)\n",
            "\n",
            "## Citation\n",
            "\n",
            "Yeh, I-C. \"Modeling of strength of high-performance concrete using artificial neural networks.\" Cement and Concrete research 28.12 (1998): 1797-1808.\n"
          ]
        }
      ],
      "source": [
        "#TODO: load the yellowbrick concrete Dataset object and access the README\n",
        "from yellowbrick.datasets.loaders import load_concrete\n",
        "conc_data = load_concrete(return_dataset=True)\n",
        "print(conc_data.README)\n",
        "\n",
        "\n"
      ]
    },
    {
      "cell_type": "markdown",
      "metadata": {
        "id": "ojI5H78trRQ-"
      },
      "source": [
        "### *Question 1:* What is the target variable name and units in this dataset?"
      ]
    },
    {
      "cell_type": "markdown",
      "metadata": {
        "id": "iNh9MhEbrRQ-"
      },
      "source": [
        "*YOUR ANSWER HERE*  \n",
        "The target variable is **concrete compressive strength** and its unit is **MPa**\n"
      ]
    },
    {
      "cell_type": "markdown",
      "metadata": {
        "id": "1JegSjPnrRQ-"
      },
      "source": [
        "### 1.1 Prepare the feature matrix and target vector\n",
        "Load the concrete data set into feature matrix `X` and target vector `y`\n",
        "\n",
        "Print dimensions and type of `X`, `y`"
      ]
    },
    {
      "cell_type": "code",
      "execution_count": 56,
      "metadata": {
        "colab": {
          "base_uri": "https://localhost:8080/"
        },
        "id": "T8xuujknrRQ-",
        "outputId": "7d2cc71e-2711-46e4-a517-fe9ac717caaa"
      },
      "outputs": [
        {
          "output_type": "stream",
          "name": "stdout",
          "text": [
            "Shape and Type of X\n",
            "(1030, 8)\n",
            "<class 'pandas.core.frame.DataFrame'>\n",
            "Shape and Type of y\n",
            "(1030,)\n",
            "<class 'pandas.core.series.Series'>\n"
          ]
        }
      ],
      "source": [
        "#TODO: Load feature matrix X and target vector y, print shapes\n",
        "X, y = conc_data.to_data()\n",
        "print(\"Shape and Type of X\")\n",
        "print(X.shape)\n",
        "print(type(X))\n",
        "\n",
        "print(\"Shape and Type of y\")\n",
        "print(y.shape)\n",
        "print(type(y))"
      ]
    },
    {
      "cell_type": "markdown",
      "metadata": {
        "id": "qmuXIY2xrRQ-"
      },
      "source": [
        "## 2. Inspect the data (1 mark each for 4 total marks)"
      ]
    },
    {
      "cell_type": "markdown",
      "metadata": {
        "id": "xtXRr9SyrRQ-"
      },
      "source": [
        "### 2.1 Range of each feature\n",
        "To get an idea if the features are on the same scale, we inspect the range of features\n",
        "\n",
        "Print the minimum and maximum of each feature in `X`"
      ]
    },
    {
      "cell_type": "code",
      "execution_count": 58,
      "metadata": {
        "colab": {
          "base_uri": "https://localhost:8080/",
          "height": 112
        },
        "id": "OUHpeOmmrRQ-",
        "outputId": "1741f1e6-ee35-4313-e25e-f8de4979d03c"
      },
      "outputs": [
        {
          "output_type": "execute_result",
          "data": {
            "text/plain": [
              "     cement   slag    ash   water  splast  coarse   fine  age\n",
              "min   102.0    0.0    0.0  121.75     0.0   801.0  594.0    1\n",
              "max   540.0  359.4  200.1  247.00    32.2  1145.0  992.6  365"
            ],
            "text/html": [
              "\n",
              "  <div id=\"df-5bb39868-8f86-4cd4-a143-c57fd495c226\">\n",
              "    <div class=\"colab-df-container\">\n",
              "      <div>\n",
              "<style scoped>\n",
              "    .dataframe tbody tr th:only-of-type {\n",
              "        vertical-align: middle;\n",
              "    }\n",
              "\n",
              "    .dataframe tbody tr th {\n",
              "        vertical-align: top;\n",
              "    }\n",
              "\n",
              "    .dataframe thead th {\n",
              "        text-align: right;\n",
              "    }\n",
              "</style>\n",
              "<table border=\"1\" class=\"dataframe\">\n",
              "  <thead>\n",
              "    <tr style=\"text-align: right;\">\n",
              "      <th></th>\n",
              "      <th>cement</th>\n",
              "      <th>slag</th>\n",
              "      <th>ash</th>\n",
              "      <th>water</th>\n",
              "      <th>splast</th>\n",
              "      <th>coarse</th>\n",
              "      <th>fine</th>\n",
              "      <th>age</th>\n",
              "    </tr>\n",
              "  </thead>\n",
              "  <tbody>\n",
              "    <tr>\n",
              "      <th>min</th>\n",
              "      <td>102.0</td>\n",
              "      <td>0.0</td>\n",
              "      <td>0.0</td>\n",
              "      <td>121.75</td>\n",
              "      <td>0.0</td>\n",
              "      <td>801.0</td>\n",
              "      <td>594.0</td>\n",
              "      <td>1</td>\n",
              "    </tr>\n",
              "    <tr>\n",
              "      <th>max</th>\n",
              "      <td>540.0</td>\n",
              "      <td>359.4</td>\n",
              "      <td>200.1</td>\n",
              "      <td>247.00</td>\n",
              "      <td>32.2</td>\n",
              "      <td>1145.0</td>\n",
              "      <td>992.6</td>\n",
              "      <td>365</td>\n",
              "    </tr>\n",
              "  </tbody>\n",
              "</table>\n",
              "</div>\n",
              "      <button class=\"colab-df-convert\" onclick=\"convertToInteractive('df-5bb39868-8f86-4cd4-a143-c57fd495c226')\"\n",
              "              title=\"Convert this dataframe to an interactive table.\"\n",
              "              style=\"display:none;\">\n",
              "        \n",
              "  <svg xmlns=\"http://www.w3.org/2000/svg\" height=\"24px\"viewBox=\"0 0 24 24\"\n",
              "       width=\"24px\">\n",
              "    <path d=\"M0 0h24v24H0V0z\" fill=\"none\"/>\n",
              "    <path d=\"M18.56 5.44l.94 2.06.94-2.06 2.06-.94-2.06-.94-.94-2.06-.94 2.06-2.06.94zm-11 1L8.5 8.5l.94-2.06 2.06-.94-2.06-.94L8.5 2.5l-.94 2.06-2.06.94zm10 10l.94 2.06.94-2.06 2.06-.94-2.06-.94-.94-2.06-.94 2.06-2.06.94z\"/><path d=\"M17.41 7.96l-1.37-1.37c-.4-.4-.92-.59-1.43-.59-.52 0-1.04.2-1.43.59L10.3 9.45l-7.72 7.72c-.78.78-.78 2.05 0 2.83L4 21.41c.39.39.9.59 1.41.59.51 0 1.02-.2 1.41-.59l7.78-7.78 2.81-2.81c.8-.78.8-2.07 0-2.86zM5.41 20L4 18.59l7.72-7.72 1.47 1.35L5.41 20z\"/>\n",
              "  </svg>\n",
              "      </button>\n",
              "      \n",
              "  <style>\n",
              "    .colab-df-container {\n",
              "      display:flex;\n",
              "      flex-wrap:wrap;\n",
              "      gap: 12px;\n",
              "    }\n",
              "\n",
              "    .colab-df-convert {\n",
              "      background-color: #E8F0FE;\n",
              "      border: none;\n",
              "      border-radius: 50%;\n",
              "      cursor: pointer;\n",
              "      display: none;\n",
              "      fill: #1967D2;\n",
              "      height: 32px;\n",
              "      padding: 0 0 0 0;\n",
              "      width: 32px;\n",
              "    }\n",
              "\n",
              "    .colab-df-convert:hover {\n",
              "      background-color: #E2EBFA;\n",
              "      box-shadow: 0px 1px 2px rgba(60, 64, 67, 0.3), 0px 1px 3px 1px rgba(60, 64, 67, 0.15);\n",
              "      fill: #174EA6;\n",
              "    }\n",
              "\n",
              "    [theme=dark] .colab-df-convert {\n",
              "      background-color: #3B4455;\n",
              "      fill: #D2E3FC;\n",
              "    }\n",
              "\n",
              "    [theme=dark] .colab-df-convert:hover {\n",
              "      background-color: #434B5C;\n",
              "      box-shadow: 0px 1px 3px 1px rgba(0, 0, 0, 0.15);\n",
              "      filter: drop-shadow(0px 1px 2px rgba(0, 0, 0, 0.3));\n",
              "      fill: #FFFFFF;\n",
              "    }\n",
              "  </style>\n",
              "\n",
              "      <script>\n",
              "        const buttonEl =\n",
              "          document.querySelector('#df-5bb39868-8f86-4cd4-a143-c57fd495c226 button.colab-df-convert');\n",
              "        buttonEl.style.display =\n",
              "          google.colab.kernel.accessAllowed ? 'block' : 'none';\n",
              "\n",
              "        async function convertToInteractive(key) {\n",
              "          const element = document.querySelector('#df-5bb39868-8f86-4cd4-a143-c57fd495c226');\n",
              "          const dataTable =\n",
              "            await google.colab.kernel.invokeFunction('convertToInteractive',\n",
              "                                                     [key], {});\n",
              "          if (!dataTable) return;\n",
              "\n",
              "          const docLinkHtml = 'Like what you see? Visit the ' +\n",
              "            '<a target=\"_blank\" href=https://colab.research.google.com/notebooks/data_table.ipynb>data table notebook</a>'\n",
              "            + ' to learn more about interactive tables.';\n",
              "          element.innerHTML = '';\n",
              "          dataTable['output_type'] = 'display_data';\n",
              "          await google.colab.output.renderOutput(dataTable, element);\n",
              "          const docLink = document.createElement('div');\n",
              "          docLink.innerHTML = docLinkHtml;\n",
              "          element.appendChild(docLink);\n",
              "        }\n",
              "      </script>\n",
              "    </div>\n",
              "  </div>\n",
              "  "
            ]
          },
          "metadata": {},
          "execution_count": 58
        }
      ],
      "source": [
        "# TODO: print range (minimum and maximum) of features\n",
        "X.aggregate(['min', 'max'])"
      ]
    },
    {
      "cell_type": "markdown",
      "metadata": {
        "id": "54_6PU3NrRQ-"
      },
      "source": [
        "### 2.2 Boxplot of features \n",
        "Using seaborn boxplot, plot all features. This provides a visual view of feature ranges\n",
        "\n",
        "Add y-axis label indicating units, and a title"
      ]
    },
    {
      "cell_type": "code",
      "execution_count": 59,
      "metadata": {
        "colab": {
          "base_uri": "https://localhost:8080/",
          "height": 362
        },
        "id": "VWKC_1kqrRQ_",
        "outputId": "693e0987-e4e6-4910-d282-b7cd947ea5bb"
      },
      "outputs": [
        {
          "output_type": "display_data",
          "data": {
            "text/plain": [
              "<Figure size 576x396 with 1 Axes>"
            ],
            "image/png": "[encoded data removed]"
          },
          "metadata": {}
        }
      ],
      "source": [
        "#TODO: add boxplot of features\n",
        "#plotting boxplot\n",
        "sns.boxplot(data=X);\n",
        "\n",
        "#adding title and y-axis label\n",
        "plt.title(\"Range for all features\")\n",
        "plt.ylabel('Unit: Age(Days),  Others(Kg)');"
      ]
    },
    {
      "cell_type": "markdown",
      "metadata": {
        "id": "Ni50CYkKrRQ_"
      },
      "source": [
        "### 2.3 Correlation heatmap of features \n",
        "\n",
        "To understand if pairs of features are potentially related, contain similar information, pair-wise cross-correlation can be calculated. Models benefit most from un-correlated features.\n",
        "\n",
        "Using pandas `corr()` method, create the cross-correlations between all features. Plot this cross-correlation object using seaborn `heatmap()` with parameters `vmin=-1, vmax=1, annot=True, cmap='BrBG'`. Add a title.\n",
        "\n",
        "Pandas `corr()` calculates [Pearson correlation ](https://en.wikipedia.org/wiki/Pearson_correlation_coefficient) :\n",
        ">  It has a value between +1 and −1. A value of +1 is total positive linear correlation, 0 is no linear correlation, and −1 is total negative linear correlation."
      ]
    },
    {
      "cell_type": "code",
      "execution_count": 62,
      "metadata": {
        "colab": {
          "base_uri": "https://localhost:8080/",
          "height": 351
        },
        "id": "jnDnvC9mrRQ_",
        "outputId": "637f895f-b337-4691-c15f-b9c75a4a9f56"
      },
      "outputs": [
        {
          "output_type": "display_data",
          "data": {
            "text/plain": [
              "<Figure size 576x396 with 2 Axes>"
            ],
            "image/png": "[encoded data removed]"
          },
          "metadata": {}
        }
      ],
      "source": [
        "# TODO: add pairwise cross-correlation heatmap of features\n",
        "# evaluating cross-correlation for all features\n",
        "X_corr = X.corr()\n",
        "\n",
        "# plotting cross-correlation on heatmapy\n",
        "sns.heatmap(data=X_corr, vmin=-1, vmax=1, annot=True, cmap='BrBG');\n"
      ]
    },
    {
      "cell_type": "markdown",
      "metadata": {
        "id": "ZnvqCyAsrRQ_"
      },
      "source": [
        "### 2.4 Histogram of target variable \n",
        "\n",
        "To understand if all target values are equally represented in the data, we analyze how many samples of each target value we have available. The histogram of the target vector can visualize this distribution.\n",
        "\n",
        "Using seaborn `displot()`, plot the histogram of the target vector. Add a title."
      ]
    },
    {
      "cell_type": "code",
      "execution_count": 61,
      "metadata": {
        "colab": {
          "base_uri": "https://localhost:8080/",
          "height": 378
        },
        "id": "5454ZxynrRQ_",
        "outputId": "6be7e451-90b8-4f30-bec6-39d68cef1084"
      },
      "outputs": [
        {
          "output_type": "display_data",
          "data": {
            "text/plain": [
              "<Figure size 360x360 with 1 Axes>"
            ],
            "image/png": "[encoded data removed]"
          },
          "metadata": {}
        }
      ],
      "source": [
        "#TODO: Add histogram of targect vector\n",
        "# using displot() to plot target vector, y\n",
        "sns.displot(data=y)\n",
        "\n",
        "# add the title\n",
        "plt.title(\"Plot showing the distribution Compressive Strength (Target Vector)\");\n"
      ]
    },
    {
      "cell_type": "markdown",
      "metadata": {
        "id": "SsIt1RHhrRQ_"
      },
      "source": [
        "## 3. Create training and test sets (1 mark)\n",
        "\n",
        "Using scikit-learn `train_test_split()` with parameters `random_state=37`, `test_size=0.2`, split `X` and `y` into training and test sets"
      ]
    },
    {
      "cell_type": "code",
      "execution_count": 63,
      "metadata": {
        "id": "h39_rEezrRQ_"
      },
      "outputs": [],
      "source": [
        "from sklearn.model_selection import train_test_split"
      ]
    },
    {
      "cell_type": "code",
      "execution_count": 64,
      "metadata": {
        "id": "hT_Xuf1FrRQ_"
      },
      "outputs": [],
      "source": [
        "# TODO: train-test split\n",
        "X_train, X_test, y_train, y_test = train_test_split(X, y, random_state=37, test_size=0.2)"
      ]
    },
    {
      "cell_type": "markdown",
      "metadata": {
        "id": "y6W03VhPrRQ_"
      },
      "source": [
        "## 4. Compare models using cross-validation (3 marks)\n",
        "\n",
        "Create a list containing a `LinearRegression()`, `RandomForestRegressor(random_state=64)` and `GradientBoostingRegressor(random_state=79)` objects.\n",
        "\n",
        "Iterate this list and:\n",
        "- using `X_train` and `y_train`\n",
        "- compute the negative root mean-squared error using the `get_regressor_neg_rms()` function\n",
        "- and print the training and validation scores with **2 decimal places**\n",
        "- Use 7-fold cross-validation"
      ]
    },
    {
      "cell_type": "code",
      "execution_count": 65,
      "metadata": {
        "id": "Yx0i2oHwrRQ_"
      },
      "outputs": [],
      "source": [
        "from sklearn.linear_model import LinearRegression\n",
        "from sklearn.ensemble import RandomForestRegressor, GradientBoostingRegressor"
      ]
    },
    {
      "cell_type": "code",
      "execution_count": 66,
      "metadata": {
        "colab": {
          "base_uri": "https://localhost:8080/"
        },
        "id": "PHl-RGlorRQ_",
        "outputId": "33f1f96e-305b-41e8-e06c-7ed2355bc8e7"
      },
      "outputs": [
        {
          "output_type": "stream",
          "name": "stdout",
          "text": [
            "LinearRegression\n",
            "\tTraining score = -10.29\n",
            "\tValidation score = -10.39\n",
            "\n",
            "RandomForestRegressor\n",
            "\tTraining score = -2.12\n",
            "\tValidation score = -4.97\n",
            "\n",
            "GradientBoostingRegressor\n",
            "\tTraining score = -3.69\n",
            "\tValidation score = -4.98\n",
            "\n"
          ]
        }
      ],
      "source": [
        "#TODO: Calling get_regressor_neg_rms() for each model\n",
        "# creating list containing the models\n",
        "model_list = [LinearRegression(), RandomForestRegressor(random_state=64), GradientBoostingRegressor(random_state=79)]\n",
        "\n",
        "# iterating each list to obtain negative rms error\n",
        "for model in model_list:\n",
        "    #printing function name\n",
        "    print(model.__class__.__name__)\n",
        "\n",
        "    # calculating scores\n",
        "    score_train, score_test = get_regressor_neg_rms(model, X_train, y_train, 7)\n",
        "\n",
        "    # printing scores\n",
        "    print(\"\\tTraining score = {0:.2f}\".format(score_train))\n",
        "    print(\"\\tValidation score = {0:.2f}\\n\".format(score_test))\n"
      ]
    },
    {
      "cell_type": "markdown",
      "metadata": {
        "id": "Hw2zfxajrRQ_"
      },
      "source": [
        "### *Question 2:* For each of the three models, state if models are potentially over- or underfitting and why (3 marks)"
      ]
    },
    {
      "cell_type": "markdown",
      "metadata": {
        "id": "Q1D5W2VmrRQ_"
      },
      "source": [
        "*YOUR ANSWER HERE* \n",
        "* Linear Regression: Model is potentially underfitting because training and validation scores are similar and tand have high values (far from 0) indicating high bias.\n",
        "\n",
        "* RandomForestRegressor: Model is potentially overfitting because training and validation scores are significantly different and have high values (from 0) indicating high variance.\n",
        "\n",
        "* GradientBoostingRegressor: Model is potentially overfit because training and validation scores are different and have high values ( from 0) indicating high variance.\n",
        "\n",
        "\n",
        "\n",
        "\n",
        "\n",
        "\n"
      ]
    },
    {
      "cell_type": "markdown",
      "metadata": {
        "id": "1Qg_KkCVrRQ_"
      },
      "source": [
        "## 5. Find a better model (3 marks)\n",
        "\n",
        "Use the `RandomForestRegressor(random_state=64)` and find the best combination of `max_depth` from the list of `[10, 15, 20]`, and `n_estimators` from the list of `[100, 200, 400]`\n",
        "\n",
        "Use nested for-loops to iterate these two lists:\n",
        "- using `X_train` and `y_train`\n",
        "- compute the negative root mean-squared error of the corresponding `RandomForestRegressor(random_state=64)` using the `get_regressor_neg_rms()` function \n",
        "- and print the training and validation scores with **2 decimal places**\n",
        "- Use 7-fold cross-validation\n",
        "\n",
        "Report the best validation score and the corresponding model\n",
        "\n",
        "Note: We expect that more trees (larger `n_estimators`) yield better model performance"
      ]
    },
    {
      "cell_type": "code",
      "execution_count": 67,
      "metadata": {
        "colab": {
          "base_uri": "https://localhost:8080/"
        },
        "id": "3E9JlvR-rRQ_",
        "outputId": "3bd2933a-6754-4fc6-8bf4-b2f22202a4a3"
      },
      "outputs": [
        {
          "output_type": "stream",
          "name": "stdout",
          "text": [
            "Printing the score for varying combination of RandomForestRegressor Parameters\n",
            "max_depth =10; n_estimators = 100 ===> Training Score: -2.44; Validation Score: -5.09 \n",
            "max_depth =10; n_estimators = 200 ===> Training Score: -2.42; Validation Score: -5.06 \n",
            "max_depth =10; n_estimators = 400 ===> Training Score: -2.41; Validation Score: -5.06 \n",
            "max_depth =15; n_estimators = 100 ===> Training Score: -2.12; Validation Score: -4.97 \n",
            "max_depth =15; n_estimators = 200 ===> Training Score: -2.11; Validation Score: -4.93 \n",
            "max_depth =15; n_estimators = 400 ===> Training Score: -2.10; Validation Score: -4.93 \n",
            "max_depth =20; n_estimators = 100 ===> Training Score: -2.12; Validation Score: -4.97 \n",
            "max_depth =20; n_estimators = 200 ===> Training Score: -2.11; Validation Score: -4.93 \n",
            "max_depth =20; n_estimators = 400 ===> Training Score: -2.09; Validation Score: -4.92 \n"
          ]
        }
      ],
      "source": [
        "#TODO: Using nested for loops iterate parameter combinations and print results\n",
        "# list of max_depth\n",
        "max_depth = [10, 15, 20]\n",
        "\n",
        "# list of n_estimators\n",
        "n_estimators = [100, 200, 400]\n",
        "\n",
        "print(\"Printing the score for varying combination of RandomForestRegressor Parameters\")\n",
        "# loop over max_depth_list and n_estimators_list\n",
        "for depth in max_depth:\n",
        "    for n in n_estimators:\n",
        "        # instantiate the model with selected hyper-parameters\n",
        "        model_RFR = RandomForestRegressor(n_estimators=n, max_depth=depth, random_state=64)\n",
        "        \n",
        "        # get the scores on the instantiated model\n",
        "        score_train, score_test = get_regressor_neg_rms(model_RFR, X_train, y_train, 7)\n",
        "\n",
        "        # print the hyperparameters used and corresponding scores\n",
        "        print(\"max_depth ={}; n_estimators = {} ===> Training Score: {:.2f}; Validation Score: {:.2f} \".format(depth, n, score_train, score_test))"
      ]
    },
    {
      "cell_type": "markdown",
      "metadata": {
        "id": "i_RMcrs0rRRA"
      },
      "source": [
        "### *Question 3:* Which combination of `max_depth` and `n_estimators` produced the best validation score? Report both training and validation scores here (2 marks)"
      ]
    },
    {
      "cell_type": "markdown",
      "metadata": {
        "id": "nxcE-3SKrRRA"
      },
      "source": [
        "*YOUR ANSWER HERE*  \n",
        "\n",
        "The following resulted in the best validation score:\n",
        "* max_depth =20; n_estimators = 400 (Validation Score: -4.92)\n"
      ]
    },
    {
      "cell_type": "markdown",
      "metadata": {
        "id": "jxf_sIkLrRRA"
      },
      "source": [
        "## 6. Retrain best model (2 marks)\n",
        "\n",
        "Create a `RandomForestRegressor(random_state=64)` with the best pair of `max_depth` and `n_estimators`, and retrain this model on all training data."
      ]
    },
    {
      "cell_type": "code",
      "execution_count": 69,
      "metadata": {
        "colab": {
          "base_uri": "https://localhost:8080/"
        },
        "id": "y4WwEJUprRRA",
        "outputId": "bbf177d8-f342-4240-e705-76b05c58a43a"
      },
      "outputs": [
        {
          "output_type": "execute_result",
          "data": {
            "text/plain": [
              "RandomForestRegressor(max_depth=20, n_estimators=400, random_state=64)"
            ]
          },
          "metadata": {},
          "execution_count": 69
        }
      ],
      "source": [
        "#TODO: retrain the best estimator\n",
        "# new RFR model with best pair of hyperparameters (max_depth =20; n_estimators = 400)\n",
        "model = RandomForestRegressor(max_depth=20, n_estimators=400, random_state=64)\n",
        "\n",
        "# fit the model\n",
        "model.fit(X_train, y_train)"
      ]
    },
    {
      "cell_type": "markdown",
      "metadata": {
        "id": "HhcNhUYvrRRA"
      },
      "source": [
        "## 7. Evaluate best model on training and test data\n",
        "### 7.1 Root mean-squared error and $R^2$ (3 marks)\n",
        "\n",
        "For the retrained best estimator, print the root mean-squared error (**2 decimal places**) and R-squared (**3 decimal places**) for training and test sets."
      ]
    },
    {
      "cell_type": "code",
      "execution_count": 70,
      "metadata": {
        "id": "24UHuCqcrRRA"
      },
      "outputs": [],
      "source": [
        "from sklearn.metrics import mean_squared_error, r2_score"
      ]
    },
    {
      "cell_type": "code",
      "source": [
        "# TODO: print rms and r-squared for training and test set\n",
        "\n",
        "# training set prediction\n",
        "y_train_pred = model.predict(X_train)\n",
        "\n",
        "# training rms and r2\n",
        "rms_train = mean_squared_error(y_train, y_train_pred, squared = False)\n",
        "r2_train = r2_score(y_train, y_train_pred)\n",
        "\n",
        "# validation set predictoin\n",
        "y_test_pred = model.predict(X_test)\n",
        "\n",
        "# test rms and r2\n",
        "rms_test = mean_squared_error(y_test, y_test_pred, squared = False)\n",
        "r2_test = r2_score(y_test, y_test_pred)\n",
        "\n",
        "#printing values\n",
        "print(\"Training Values: rms = {:.2f} MPa; R2 = {:.3f}\".format(rms_train, r2_train))\n",
        "print(\"Validation Values:  rms = {:.2f} MPa; R2 = {:.3f}\".format(rms_test, r2_test))"
      ],
      "metadata": {
        "id": "14TQNLpcUe7A",
        "outputId": "b48f9d05-dd1f-4e59-c99d-40a1f6cd4dce",
        "colab": {
          "base_uri": "https://localhost:8080/"
        }
      },
      "execution_count": 80,
      "outputs": [
        {
          "output_type": "stream",
          "name": "stdout",
          "text": [
            "Training Values: rms = 2.00 MPa; R2 = 0.986\n",
            "Validation Values:  rms = 4.80 MPa; R2 = 0.915\n"
          ]
        }
      ]
    },
    {
      "cell_type": "markdown",
      "metadata": {
        "id": "E4-WZrRBrRRA"
      },
      "source": [
        "### *Question 4:* How does this test score compare to the polynomial regression and neural network reported in the article? Do we outperform the reported models? Include scores in your answer. (2 marks)"
      ]
    },
    {
      "cell_type": "markdown",
      "metadata": {
        "id": "XEsZTq4IrRRA"
      },
      "source": [
        "*YOUR ANSWER HERE*\n",
        "* Our model outperforms the polynomial regression in the article. We have rms of 4.8MPa which is lower than 8.82MPa in the article while we have a r2 of 0.915 which is better than 0.791 obtained in the article.\n",
        "\n",
        "* Our model performs worse relative to the neural network model in the article. We have rms of 4.8MPa which is higher than 4.32MPa in the article while we have a r2 of 0.915 which is slightly worse than 0.929 obtained in the article."
      ]
    },
    {
      "cell_type": "markdown",
      "metadata": {
        "id": "IxtEfaAGrRRA"
      },
      "source": [
        "### 7.2 Predicted vs actual strength plot (1 mark)\n",
        "Using a scatterplot, show predicted strength on the x axis and actual strength on the y axis with data from the test set. With this plot, we can see where we make errors.\n",
        "\n",
        "Add a line of unity (diagonal with slope 1 and offset 0). Ideally, all points would be on this line. We look for points being distributed equally around the line of unity.\n",
        "\n",
        "Add x-axis, y-axis labels including units, and a title.\n"
      ]
    },
    {
      "cell_type": "code",
      "execution_count": 81,
      "metadata": {
        "colab": {
          "base_uri": "https://localhost:8080/",
          "height": 376
        },
        "id": "wmCro3XLrRRA",
        "outputId": "bcfeea44-3f56-46d8-f60c-ea7fdce9be72"
      },
      "outputs": [
        {
          "output_type": "display_data",
          "data": {
            "text/plain": [
              "<Figure size 576x396 with 1 Axes>"
            ],
            "image/png": "[encoded data removed]"
          },
          "metadata": {}
        }
      ],
      "source": [
        "#TODO: predicted-actual plot\n",
        "#using scatterplot in seaborn\n",
        "sns.scatterplot(x=y_test_pred, y=y_test)\n",
        "\n",
        "# adding line of unity\n",
        "plt.plot([0,100], [0,100], color = 'red')\n",
        "\n",
        "# adding title and axis labels\n",
        "plt.title(\"Compressive Strength: Actual v Predicted (Test set)\")\n",
        "plt.xlabel(\"Predicted Strength (MPa)\");\n",
        "plt.ylabel(\"Actual Strength (MPa)\");"
      ]
    },
    {
      "cell_type": "markdown",
      "metadata": {
        "id": "TVLHsEbdrRRA"
      },
      "source": [
        "### 7.3 Residual plot (1 mark)\n",
        "Using a scatterplot, show predicted strength on the x axis and the *difference* between actual and predicted strength on the y axis with data from the test set. This is an alternative way to see where errors are made.\n",
        "\n",
        "We look for residuals being distributed equally around the zero horizontal line.\n",
        "\n",
        "Add x-axis, y-axis labels including units, and a title.\n",
        "\n"
      ]
    },
    {
      "cell_type": "code",
      "execution_count": 82,
      "metadata": {
        "colab": {
          "base_uri": "https://localhost:8080/",
          "height": 376
        },
        "id": "bmY3lX5NrRRA",
        "outputId": "2eef9db1-6210-4e75-898e-e9a4b1d5e509"
      },
      "outputs": [
        {
          "output_type": "display_data",
          "data": {
            "text/plain": [
              "<Figure size 576x396 with 1 Axes>"
            ],
            "image/png": "[encoded data removed]"
          },
          "metadata": {}
        }
      ],
      "source": [
        "# TODO: Residual plot\n",
        "#using scatterplot in seaborn\n",
        "sns.scatterplot(x=y_test_pred, y=y_test-y_test_pred)\n",
        "\n",
        "# adding title and axis labels\n",
        "plt.title(\"Compressive Strength: Difference in Actual and predicted v. Predicted (Test set)\")\n",
        "plt.xlabel(\"Predicted Strength (MPa)\");\n",
        "plt.ylabel(\"Residuals (MPa)\");"
      ]
    },
    {
      "cell_type": "markdown",
      "metadata": {
        "id": "oTDQAnDgrRRA"
      },
      "source": [
        "## 8. Conclusion (3 marks)\n",
        "\n",
        "In conclusion, comment on the following items:\n",
        "1. Did we find a model that outperforms the polynomial regression reported in the reference article? Explain.\n",
        "1. Did we find a model that outperforms the neural network reported in the reference article? Explain.\n",
        "1. What were our assumption about the dataset and train/test split? How do these assumptions affect your conclusions?\n"
      ]
    },
    {
      "cell_type": "markdown",
      "metadata": {
        "id": "wuLI86eGrRRA"
      },
      "source": [
        "*YOUR ANSWER HERE*\n",
        "\n",
        "1. Yes, our model (RandomForestRegressor with max_depth=20 and  n_estimators=400) outperformed the polynomial regression model reported in the article. We have rms of 4.8MPa which is lower than 8.82MPa in the article while we have a r2 of 0.915 which is better than 0.791 obtained in the article.\n",
        "\n",
        "2. No, our model performed worse relative to the neural network model reported in the article. We have rms of 4.8MPa which is higher than 4.32MPa in the article while we have a r2 of 0.915 which is worse than 0.929 obtained in the article.\n",
        "\n",
        "3. We assumed that the yellowbrick dataset was used in the reference article and that 20% of the data served as the test set. Changing the dataset would affect our results and consequently, the conclusions. Also, if the percentage of data used for testing (20%) is changed (to 10% for example), this will also change the model training, result and conclusion.\n",
        "\n"
      ]
    },
    {
      "cell_type": "markdown",
      "metadata": {
        "id": "xH8OMud1rRRA"
      },
      "source": [
        "## 9. Reflection (2 marks)\n",
        "\n"
      ]
    },
    {
      "cell_type": "markdown",
      "metadata": {
        "id": "8gHIfLTBrRRA"
      },
      "source": [
        "Include a sentence or two about:\n",
        "- what you liked or disliked,\n",
        "- found interesting, confusing, challangeing, motivating while working on this assignment.\n",
        "\n",
        "*ADD YOUR THOUGHTS HERE*\n",
        "\n",
        "* I liked the ability to use and ease of implementation of multiple models and compare them as used in linear regression, randomforestregressor and gradientboostingregressor. I didn't like the process of manually searching for optimal hyperparameters.\n",
        "\n",
        "* The ease of visualization using seaborn library was interesting.\n",
        "\n"
      ]
    },
    {
      "cell_type": "markdown",
      "metadata": {
        "id": "9E_XGFahrRRA"
      },
      "source": [
        "# Appendix-A: Bonus - use grid search to find the best model parameters\n",
        "### (5 potential bonus marks)"
      ]
    },
    {
      "cell_type": "markdown",
      "metadata": {
        "id": "YuzVOchRrRRB"
      },
      "source": [
        "## A-0. Workflow overview"
      ]
    },
    {
      "cell_type": "code",
      "source": [
        "!pip install mglearn"
      ],
      "metadata": {
        "colab": {
          "base_uri": "https://localhost:8080/"
        },
        "id": "UuY5CNr5JtPZ",
        "outputId": "09d3477f-b651-4829-8dce-36dedaee99d1"
      },
      "execution_count": 41,
      "outputs": [
        {
          "output_type": "stream",
          "name": "stdout",
          "text": [
            "Looking in indexes: https://pypi.org/simple, https://us-python.pkg.dev/colab-wheels/public/simple/\n",
            "Collecting mglearn\n",
            "  Downloading mglearn-0.1.9.tar.gz (540 kB)\n",
            "\u001b[2K     \u001b[90m━━━━━━━━━━━━━━━━━━━━━━━━━━━━━━━━━━━━━━━\u001b[0m \u001b[32m540.1/540.1 KB\u001b[0m \u001b[31m8.9 MB/s\u001b[0m eta \u001b[36m0:00:00\u001b[0m\n",
            "\u001b[?25h  Preparing metadata (setup.py) ... \u001b[?25l\u001b[?25hdone\n",
            "Requirement already satisfied: numpy in /usr/local/lib/python3.8/dist-packages (from mglearn) (1.22.4)\n",
            "Requirement already satisfied: matplotlib in /usr/local/lib/python3.8/dist-packages (from mglearn) (3.5.3)\n",
            "Requirement already satisfied: scikit-learn in /usr/local/lib/python3.8/dist-packages (from mglearn) (1.0.2)\n",
            "Requirement already satisfied: pandas in /usr/local/lib/python3.8/dist-packages (from mglearn) (1.3.5)\n",
            "Requirement already satisfied: pillow in /usr/local/lib/python3.8/dist-packages (from mglearn) (7.1.2)\n",
            "Requirement already satisfied: cycler in /usr/local/lib/python3.8/dist-packages (from mglearn) (0.11.0)\n",
            "Requirement already satisfied: imageio in /usr/local/lib/python3.8/dist-packages (from mglearn) (2.9.0)\n",
            "Requirement already satisfied: joblib in /usr/local/lib/python3.8/dist-packages (from mglearn) (1.2.0)\n",
            "Requirement already satisfied: packaging>=20.0 in /usr/local/lib/python3.8/dist-packages (from matplotlib->mglearn) (23.0)\n",
            "Requirement already satisfied: kiwisolver>=1.0.1 in /usr/local/lib/python3.8/dist-packages (from matplotlib->mglearn) (1.4.4)\n",
            "Requirement already satisfied: python-dateutil>=2.7 in /usr/local/lib/python3.8/dist-packages (from matplotlib->mglearn) (2.8.2)\n",
            "Requirement already satisfied: fonttools>=4.22.0 in /usr/local/lib/python3.8/dist-packages (from matplotlib->mglearn) (4.38.0)\n",
            "Requirement already satisfied: pyparsing>=2.2.1 in /usr/local/lib/python3.8/dist-packages (from matplotlib->mglearn) (3.0.9)\n",
            "Requirement already satisfied: pytz>=2017.3 in /usr/local/lib/python3.8/dist-packages (from pandas->mglearn) (2022.7.1)\n",
            "Requirement already satisfied: scipy>=1.1.0 in /usr/local/lib/python3.8/dist-packages (from scikit-learn->mglearn) (1.7.3)\n",
            "Requirement already satisfied: threadpoolctl>=2.0.0 in /usr/local/lib/python3.8/dist-packages (from scikit-learn->mglearn) (3.1.0)\n",
            "Requirement already satisfied: six>=1.5 in /usr/local/lib/python3.8/dist-packages (from python-dateutil>=2.7->matplotlib->mglearn) (1.15.0)\n",
            "Building wheels for collected packages: mglearn\n",
            "  Building wheel for mglearn (setup.py) ... \u001b[?25l\u001b[?25hdone\n",
            "  Created wheel for mglearn: filename=mglearn-0.1.9-py2.py3-none-any.whl size=582637 sha256=4bfab03e90c0d80bb35636252c30282c40b0f6496c94d9c42aa6cc636be4aa99\n",
            "  Stored in directory: /root/.cache/pip/wheels/87/75/37/404e66d0c4bad150f101c9a0914b11a8eccc2681559936e7f7\n",
            "Successfully built mglearn\n",
            "Installing collected packages: mglearn\n",
            "Successfully installed mglearn-0.1.9\n"
          ]
        }
      ]
    },
    {
      "cell_type": "code",
      "execution_count": null,
      "metadata": {
        "id": "1DeIz3YXrRRB"
      },
      "outputs": [],
      "source": [
        "import mglearn\n",
        "mglearn.plots.plot_grid_search_overview()"
      ]
    },
    {
      "cell_type": "markdown",
      "metadata": {
        "id": "v0z_gWHsrRRB"
      },
      "source": [
        "## A-1. Hyperparameter tuning using grid search (2 marks)\n",
        "\n",
        "The inital cross-validation above showed that both DecisionTree based models might have merit. Next, the hyperparameters are tuned using grid search."
      ]
    },
    {
      "cell_type": "markdown",
      "metadata": {
        "id": "U6G9LKhzrRRB"
      },
      "source": [
        "### A-1.1 Grid search for RandomForestRegressor\n",
        "\n",
        "Perform grid search using `GridSearchCV` for the `RandomForestRegressor(random_state=64)`.\n",
        "\n",
        "Grid search to use 7-fold cross-validation, and `neg_root_mean_squared_error` as the scoring function.\n",
        "\n",
        "Use the following hyperparameters and values:\n",
        "- `'n_estimators': [100, 200, 400]`\n",
        "- `'max_depth': [ 15, 17, 19, 21]`\n",
        "- `'max_features': ['auto', 'log2', None]`\n"
      ]
    },
    {
      "cell_type": "code",
      "execution_count": null,
      "metadata": {
        "id": "dw_9FdVOrRRB"
      },
      "outputs": [],
      "source": [
        "# TODO: Setup grid search for RandomForestRegressor(random_state=64)\n"
      ]
    },
    {
      "cell_type": "code",
      "execution_count": null,
      "metadata": {
        "id": "n3sYP8aHrRRB"
      },
      "outputs": [],
      "source": [
        "# TODO: perform the grid search by calling fit()\n"
      ]
    },
    {
      "cell_type": "code",
      "execution_count": null,
      "metadata": {
        "id": "SzQPhK05rRRB"
      },
      "outputs": [],
      "source": [
        "# TODO: Print the best parameters\n"
      ]
    },
    {
      "cell_type": "code",
      "execution_count": null,
      "metadata": {
        "id": "KB6LyVr3rRRB"
      },
      "outputs": [],
      "source": [
        "# TODO: Print the best score\n"
      ]
    },
    {
      "cell_type": "markdown",
      "metadata": {
        "id": "rSDF7fAirRRB"
      },
      "source": [
        "### A-1.2 Grid search for gradient boosted tree\n",
        "\n",
        "Perform grid search using `GridSearchCV` for the `GradientBoostingRegressor(random_state=79)`.\n",
        "\n",
        "Grid search to use 7-fold cross-validation, and `neg_root_mean_squared_error` as the scoring function.\n",
        "\n",
        "Use the following hyperparameters and values:\n",
        "- `'n_estimators': [100, 200, 500]`\n",
        "- `'max_depth': [1, 3, 5, 7]`\n",
        "- `'learning_rate': [0.01, 0.1, 1.0]`"
      ]
    },
    {
      "cell_type": "code",
      "execution_count": null,
      "metadata": {
        "id": "xctHlFucrRRB"
      },
      "outputs": [],
      "source": [
        "# TODO: Setup grid search for GradientBoostingRegressor(random_state=79)\n"
      ]
    },
    {
      "cell_type": "code",
      "execution_count": null,
      "metadata": {
        "id": "vyqiM4zcrRRB"
      },
      "outputs": [],
      "source": [
        "# TODO: perform the grid search by calling fit()\n"
      ]
    },
    {
      "cell_type": "code",
      "execution_count": null,
      "metadata": {
        "id": "_m4jZGI3rRRB"
      },
      "outputs": [],
      "source": [
        "# TODO: Print the best parameters\n"
      ]
    },
    {
      "cell_type": "code",
      "execution_count": null,
      "metadata": {
        "id": "wdN5Tk9ArRRB"
      },
      "outputs": [],
      "source": [
        "# TODO: Print the best score\n"
      ]
    },
    {
      "cell_type": "markdown",
      "metadata": {
        "id": "SlliZjG4rRRB"
      },
      "source": [
        "### *Question A-1:* Which of the two models produces the best score? What is the best score?"
      ]
    },
    {
      "cell_type": "markdown",
      "metadata": {
        "id": "f6HwgZYArRRB"
      },
      "source": [
        "*YOUR ANSWER HERE*\n"
      ]
    },
    {
      "cell_type": "markdown",
      "metadata": {
        "id": "ffjpiZwRrRRB"
      },
      "source": [
        "## A-2. Retrain best model (1 mark)\n",
        "\n",
        "Get the best estimator from the two grid searches above and retrain this model on all training data."
      ]
    },
    {
      "cell_type": "code",
      "execution_count": null,
      "metadata": {
        "id": "8zr26l7ErRRB"
      },
      "outputs": [],
      "source": [
        "#TODO: retrain the best estimator\n",
        "\n"
      ]
    },
    {
      "cell_type": "markdown",
      "metadata": {
        "id": "JFW9LFBPrRRB"
      },
      "source": [
        "## A-3. Model evaluation and conclusion (1 mark)\n",
        "\n",
        "Repeat steps in Section 7 above for the best model.\n",
        "\n",
        "Revisit your Question 4."
      ]
    },
    {
      "cell_type": "code",
      "execution_count": null,
      "metadata": {
        "id": "GEjLSjUtrRRB"
      },
      "outputs": [],
      "source": [
        "#TODO: train and test set scores of retrained best model\n"
      ]
    },
    {
      "cell_type": "code",
      "execution_count": null,
      "metadata": {
        "id": "dLgP4jbTrRRB"
      },
      "outputs": [],
      "source": [
        "#TODO: predicted-actual plot\n"
      ]
    },
    {
      "cell_type": "code",
      "execution_count": null,
      "metadata": {
        "id": "JA30KrGTrRRB"
      },
      "outputs": [],
      "source": [
        "# TODO: Residual plot\n"
      ]
    },
    {
      "cell_type": "markdown",
      "metadata": {
        "tags": [],
        "id": "vjBPZzaGrRRC"
      },
      "source": [
        "### *Question A-4:* How does this test score compare to the polynomial regression and neural network reported in the article? Do we outperform the reported models? (1 mark)"
      ]
    },
    {
      "cell_type": "markdown",
      "metadata": {
        "id": "MyBMm9U5rRRC"
      },
      "source": [
        "*YOUR ANSWER HERE*\n"
      ]
    }
  ],
  "metadata": {
    "kernelspec": {
      "display_name": "Python 3 (ipykernel)",
      "language": "python",
      "name": "python3"
    },
    "language_info": {
      "codemirror_mode": {
        "name": "ipython",
        "version": 3
      },
      "file_extension": ".py",
      "mimetype": "text/x-python",
      "name": "python",
      "nbconvert_exporter": "python",
      "pygments_lexer": "ipython3",
      "version": "3.9.13"
    },
    "colab": {
      "provenance": []
    }
  },
  "nbformat": 4,
  "nbformat_minor": 0
}